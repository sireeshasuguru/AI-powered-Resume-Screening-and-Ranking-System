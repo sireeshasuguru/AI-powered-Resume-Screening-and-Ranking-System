{
 "cells": [
  {
   "cell_type": "code",
   "execution_count": 1,
   "id": "9f0dfeef-9144-4fa5-aa3f-65fa3f0e3d7b",
   "metadata": {},
   "outputs": [],
   "source": [
    "import streamlit as st\n",
    "from PyPDF2 import PdfReader\n",
    "import pandas as pd\n",
    "from sklearn.feature_extraction.text import TfidfVectorizer\n",
    "from sklearn.metrics.pairwise import cosine_similarity"
   ]
  },
  {
   "cell_type": "code",
   "execution_count": 7,
   "id": "db6ca094-47e0-4d05-963c-c6f43fa0600d",
   "metadata": {},
   "outputs": [],
   "source": [
    "file=r\"C:\\Users\\siree\\Downloads\\Jake_s_Resume.pdf\""
   ]
  },
  {
   "cell_type": "code",
   "execution_count": 8,
   "id": "db677924-4a3d-4f57-81d8-1ce438a79ff1",
   "metadata": {},
   "outputs": [],
   "source": [
    "pdf = PdfReader(file)\n",
    "text = \"\"\n",
    "for page in pdf.pages:\n",
    "    text += page.extract_text()"
   ]
  },
  {
   "cell_type": "code",
   "execution_count": 9,
   "id": "bcf1b2a7-3294-4fda-8da3-ac7267c44e91",
   "metadata": {},
   "outputs": [
    {
     "name": "stdout",
     "output_type": "stream",
     "text": [
      "Sireesha Suguru\n",
      "123-456-7890 |jake@su.edu |linkedin.com/in/jake |github.com/jake\n",
      "Education\n",
      "Southwestern University Georgetown, TX\n",
      "Bachelor of Arts in Computer Science, Minor in Business Aug. 2018 – May 2021\n",
      "Blinn College Bryan, TX\n",
      "Associate’s in Liberal Arts Aug. 2014 – May 2018\n",
      "Experience\n",
      "Undergraduate Research Assistant June 2020 – Present\n",
      "Texas A&M University College Station, TX\n",
      "•Developed a REST API using FastAPI and PostgreSQL to store data from learning management systems\n",
      "•Developed a full-stack web application using Flask, React, PostgreSQL and Docker to analyze GitHub data\n",
      "•Explored ways to visualize GitHub collaboration in a classroom setting\n",
      "Information Technology Support Specialist Sep. 2018 – Present\n",
      "Southwestern University Georgetown, TX\n",
      "•Communicate with managers to set up campus computers used on campus\n",
      "•Assess and troubleshoot computer problems brought by students, faculty and staff\n",
      "•Maintain upkeep of computers, classroom equipment, and 200 printers across campus\n",
      "Artificial Intelligence Research Assistant May 2019 – July 2019\n",
      "Southwestern University Georgetown, TX\n",
      "•Explored methods to generate video game dungeons based off of The Legend of Zelda\n",
      "•Developed a game in Java to test the generated dungeons\n",
      "•Contributed 50K+ lines of code to an established codebase via Git\n",
      "•Conducted a human subject study to determine which video game dungeon generation technique is enjoyable\n",
      "•Wrote an 8-page paper and gave multiple presentations on-campus\n",
      "•Presented virtually to the World Conference on Computational Intelligence\n",
      "Projects\n",
      "Gitlytics |Python, Flask, React, PostgreSQL, Docker June 2020 – Present\n",
      "•Developed a full-stack web application using with Flask serving a REST API with React as the frontend\n",
      "•Implemented GitHub OAuth to get data from user’s repositories\n",
      "•Visualized GitHub data to show collaboration\n",
      "•Used Celery and Redis for asynchronous tasks\n",
      "Simple Paintball |Spigot API, Java, Maven, TravisCI, Git May 2018 – May 2020\n",
      "•Developed a Minecraft server plugin to entertain kids during free time for a previous job\n",
      "•Published plugin to websites gaining 2K+ downloads and an average 4.5/5-star review\n",
      "•Implemented continuous delivery using TravisCI to build the plugin upon new a release\n",
      "•Collaborated with Minecraft server administrators to suggest features and get feedback about the plugin\n",
      "Technical Skills\n",
      "Languages : Java, Python, C/C++, SQL (Postgres), JavaScript, HTML/CSS, R\n",
      "Frameworks : React, Node.js, Flask, JUnit, WordPress, Material-UI, FastAPI\n",
      "Developer Tools : Git, Docker, TravisCI, Google Cloud Platform, VS Code, Visual Studio, PyCharm, IntelliJ, Eclipse\n",
      "Libraries : pandas, NumPy, Matplotlib\n"
     ]
    }
   ],
   "source": [
    "print(text)"
   ]
  },
  {
   "cell_type": "code",
   "execution_count": 6,
   "id": "adeaac88-5c56-4971-bb3f-59c4bbb60c4a",
   "metadata": {},
   "outputs": [],
   "source": [
    "# Function to extract text from PDF\n",
    "def extract_text_from_pdf(file):\n",
    "    pdf = PdfReader(file)\n",
    "    text = \"\"\n",
    "    for page in pdf.pages:\n",
    "        text += page.extract_text()\n",
    "    return text"
   ]
  },
  {
   "cell_type": "code",
   "execution_count": 11,
   "id": "5346adba-c7be-43e0-8962-c8ea95db7c18",
   "metadata": {},
   "outputs": [],
   "source": [
    "# Function to rank resumes based on job description\n",
    "def rank_resumes(job_description, resumes):\n",
    "    # Combine job description with resumes\n",
    "    documents [job_description] + resumes\n",
    "    vectorizer = TfidfVectorizer().fit_transform(documents)\n",
    "    vectors =vectorizer.toarray()\n",
    "\n",
    "    # Calculate cosine similarity\n",
    "    job_description_vector = vectors[0]\n",
    "    resume_vectors = vectors [1:]\n",
    "    cosine_similarities = cosine_similarity ([job_description_vector], resume_vectors).flatten()\n",
    "    \n",
    "    return cosine_similarities"
   ]
  },
  {
   "cell_type": "code",
   "execution_count": 12,
   "id": "fe4f6753-d769-43c4-891a-4874d57ebdf6",
   "metadata": {},
   "outputs": [
    {
     "name": "stderr",
     "output_type": "stream",
     "text": [
      "2025-03-10 14:47:30.635 WARNING streamlit.runtime.scriptrunner_utils.script_run_context: Thread 'MainThread': missing ScriptRunContext! This warning can be ignored when running in bare mode.\n",
      "2025-03-10 14:47:31.223 \n",
      "  \u001b[33m\u001b[1mWarning:\u001b[0m to view this Streamlit app on a browser, run it with the following\n",
      "  command:\n",
      "\n",
      "    streamlit run C:\\Users\\siree\\AppData\\Local\\Programs\\Python\\Python313\\Lib\\site-packages\\ipykernel_launcher.py [ARGUMENTS]\n",
      "2025-03-10 14:47:31.226 Thread 'MainThread': missing ScriptRunContext! This warning can be ignored when running in bare mode.\n",
      "2025-03-10 14:47:31.228 Thread 'MainThread': missing ScriptRunContext! This warning can be ignored when running in bare mode.\n",
      "2025-03-10 14:47:31.229 Thread 'MainThread': missing ScriptRunContext! This warning can be ignored when running in bare mode.\n",
      "2025-03-10 14:47:31.231 Thread 'MainThread': missing ScriptRunContext! This warning can be ignored when running in bare mode.\n",
      "2025-03-10 14:47:31.232 Thread 'MainThread': missing ScriptRunContext! This warning can be ignored when running in bare mode.\n",
      "2025-03-10 14:47:31.234 Thread 'MainThread': missing ScriptRunContext! This warning can be ignored when running in bare mode.\n",
      "2025-03-10 14:47:31.238 Thread 'MainThread': missing ScriptRunContext! This warning can be ignored when running in bare mode.\n",
      "2025-03-10 14:47:31.239 Session state does not function when running a script without `streamlit run`\n",
      "2025-03-10 14:47:31.241 Thread 'MainThread': missing ScriptRunContext! This warning can be ignored when running in bare mode.\n",
      "2025-03-10 14:47:31.242 Thread 'MainThread': missing ScriptRunContext! This warning can be ignored when running in bare mode.\n"
     ]
    }
   ],
   "source": [
    "# Streamlit app\n",
    "st.title(\"AI Resume Screening & Candidate Ranking System\")\n",
    "# Job description input\n",
    "st.header(\"Job Description\")\n",
    "job_description= st.text_area (\"Enter the job description\")"
   ]
  },
  {
   "cell_type": "code",
   "execution_count": null,
   "id": "8b4202d6-4e09-4119-b1fd-9adb991b4ab5",
   "metadata": {},
   "outputs": [],
   "source": [
    "# File uploader\n",
    "st.header(\"Upload Resumes\")\n",
    "uploaded_files = st.file_uploader(\"Upload PDF files\", type=[\"pdf\"], accept_multiple_files=True)"
   ]
  },
  {
   "cell_type": "code",
   "execution_count": null,
   "id": "8e218fd3-19a8-4514-98bb-e5d6672df465",
   "metadata": {},
   "outputs": [],
   "source": [
    "if uploaded_files and job_description:\n",
    "    st.header(\"Ranking Resumes\")\n",
    "    \n",
    "    resumes = []\n",
    "    for file in uploaded_files:\n",
    "        text = extract_text_from_pdf(file)\n",
    "        resumes.append(text)\n",
    "\n",
    "    # Rank resumes\n",
    "    scores = rank_resumes(job_description, resumes)\n",
    "\n",
    "    # Display scores\n",
    "    results = pd.DataFrame({\"Resume\": [file.name for file in uploaded_files], \"Score\": score })\n",
    "    results = results.sort_values(by=\"Score\", ascending=False)\n",
    "    \n",
    "    st.write(results)"
   ]
  },
  {
   "cell_type": "code",
   "execution_count": null,
   "id": "36f4c751-0615-4257-9dd4-36253f1e31e9",
   "metadata": {},
   "outputs": [],
   "source": []
  }
 ],
 "metadata": {
  "kernelspec": {
   "display_name": "Python 3 (ipykernel)",
   "language": "python",
   "name": "python3"
  },
  "language_info": {
   "codemirror_mode": {
    "name": "ipython",
    "version": 3
   },
   "file_extension": ".py",
   "mimetype": "text/x-python",
   "name": "python",
   "nbconvert_exporter": "python",
   "pygments_lexer": "ipython3",
   "version": "3.13.2"
  }
 },
 "nbformat": 4,
 "nbformat_minor": 5
}
